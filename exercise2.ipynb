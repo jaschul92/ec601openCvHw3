{
 "cells": [
  {
   "cell_type": "code",
   "execution_count": 29,
   "metadata": {},
   "outputs": [],
   "source": [
    "import sys\n",
    "import cv2 as cv\n",
    "import numpy as np\n",
    "import matplotlib.pyplot as plot"
   ]
  },
  {
   "cell_type": "code",
   "execution_count": 32,
   "metadata": {},
   "outputs": [
    {
     "name": "stdout",
     "output_type": "stream",
     "text": [
      "[102 165 156]\n"
     ]
    }
   ],
   "source": [
    "img_src = cv.imread('baboon.jpg',1)\n",
    "cv.imshow(cv.namedWindow('image',cv.WINDOW_NORMAL),img_src)\n",
    "print(img_src[20,25])"
   ]
  },
  {
   "cell_type": "code",
   "execution_count": 28,
   "metadata": {},
   "outputs": [],
   "source": [
    "rols, cols, chans = img_src.shape\n",
    "bl, gr, rd = cv.split(img_src)"
   ]
  },
  {
   "cell_type": "code",
   "execution_count": 23,
   "metadata": {
    "collapsed": true
   },
   "outputs": [],
   "source": [
    "cv.imshow('Blue',bl)\n",
    "cv.imshow('Green',gr)\n",
    "cv.imshow('Red', rd)"
   ]
  },
  {
   "cell_type": "code",
   "execution_count": 34,
   "metadata": {},
   "outputs": [
    {
     "name": "stdout",
     "output_type": "stream",
     "text": [
      "[155 129  98]\n"
     ]
    }
   ],
   "source": [
    "ycrcb_image = cv.cvtColor(img_src,cv.COLOR_BGR2YCrCb)\n",
    "cv.imshow('Y', ycrcb_image)\n",
    "cv.imshow('Cb', ycrcb_image)\n",
    "cv.imshow('Cr', ycrcb_image)\n",
    "print(ycrcb_image[20,25])"
   ]
  },
  {
   "cell_type": "code",
   "execution_count": 33,
   "metadata": {},
   "outputs": [
    {
     "name": "stdout",
     "output_type": "stream",
     "text": [
      "[ 34  97 165]\n"
     ]
    }
   ],
   "source": [
    "hsv_image = cv.cvtColor(img_src,cv.COLOR_BGR2HSV)\n",
    "cv.imshow('Hue', hsv_image)\n",
    "cv.imshow('Saturation', hsv_image)\n",
    "cv.imshow('Value', hsv_image)\n",
    "print(hsv_image[20,25])"
   ]
  },
  {
   "cell_type": "code",
   "execution_count": null,
   "metadata": {
    "collapsed": true
   },
   "outputs": [],
   "source": []
  }
 ],
 "metadata": {
  "kernelspec": {
   "display_name": "Python 3",
   "language": "python",
   "name": "python3"
  },
  "language_info": {
   "codemirror_mode": {
    "name": "ipython",
    "version": 3
   },
   "file_extension": ".py",
   "mimetype": "text/x-python",
   "name": "python",
   "nbconvert_exporter": "python",
   "pygments_lexer": "ipython3",
   "version": "3.6.1"
  }
 },
 "nbformat": 4,
 "nbformat_minor": 2
}
