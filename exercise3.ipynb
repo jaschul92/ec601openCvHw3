{
 "cells": [
  {
   "cell_type": "code",
   "execution_count": 9,
   "metadata": {},
   "outputs": [],
   "source": [
    "import cv2\n",
    "import numpy as np\n",
    "import copy\n",
    "import random    "
   ]
  },
  {
   "cell_type": "code",
   "execution_count": 11,
   "metadata": {
    "collapsed": true
   },
   "outputs": [],
   "source": [
    "def Add_salt_pepper_Noise(img_src, pa, pb):\n",
    "    rows, cols, chns = img_src.shape\n",
    "    amount1 = rows*cols*pa\n",
    "    amount2 = rows*cols*pb\n",
    "    img_copy = copy.deepcopy(img_Src)\n",
    "    for i in range(amount1):\n",
    "        low = random.randint(0,rows-1)\n",
    "        high = random.randint(0,cols-1)\n",
    "        img_copy[low,high] = 0\n",
    "    for i in range(amount2):\n",
    "        low = random.randint(0,rows-1)\n",
    "        high = random.randint(0,cols-1)\n",
    "        img_copy[low,high] = 255\n",
    "        \n",
    "        return img_copy\n",
    "\n",
    "def Add_gaussian_noise(img_src,mean,sigma):\n",
    "    gaus_copy = copy.deepcopy(img_src)\n",
    "    cv2.randn(gaus_copy,mean,sigma)\n",
    "    return cv2.add(gaus_copy,imgsrc)\n",
    "    \n",
    "    \n",
    "def main():\n",
    "    img = sys.argv[1]\n",
    "    original = cv2.imread(img, cv2.IMREAD_GRAYSCALE)\n",
    "    cv2.imshow('Original image', original)\n",
    "    \n",
    "    noise_img = copy.deepcopy(original)\n",
    "    mean = 0\n",
    "    sigma = 50\n",
    "    cv2.imshow('Gaus', Add_salt_pepper_Noise(original,mean,sigma))\n",
    "    \n",
    "    noise_dst = copy.deepcopy(noise_img)\n",
    "    cv2.imshow('Box filter', cv2.blue(noise_dst),(3,3))\n",
    "    \n",
    "    noise_dst1 = copy.deepcopy(noise_img)\n",
    "    cv2.imshow('Gaussain filter', cv2.GaussianBlur(noise_dst1), 3)\n",
    "    \n",
    "    noise_dst2 = copy.deepcopy(noise_img)\n",
    "    cv2.imshow('Median filter', cv2.medianBlur(noise_dst2), (3,3),1.5)\n",
    "\n",
    "    pa = 0.01\n",
    "    pb = 0.01\n",
    "    noise_img2 = Add_salt_pepper_Noise(original, pa, pb)\n",
    "    cv2.imshow('Salt and Pepper Noise', noise_img2)\n",
    "    \n",
    "    noise_dst3 = cv2.blur(noise_img2, (3,3))\n",
    "    cv2.imshow('Box filter', noise_dst3)\n",
    "    \n",
    "    noise_dst4 = cv2.GaussianBlur(noise_img2, (3,3),1.5)\n",
    "    cv2.imshow('Gaussian filter', noise_dst4)\n",
    "    \n",
    "    noise_dst5 = cv2.medianBlur(noise_img2, 3)\n",
    "    cv2.imshow('Median filter', noise_dst5)\n",
    "    print('hi')\n",
    "    \n",
    "    if __name__ == '__main__':\n",
    "        main()"
   ]
  }
 ],
 "metadata": {
  "kernelspec": {
   "display_name": "Python 3",
   "language": "python",
   "name": "python3"
  },
  "language_info": {
   "codemirror_mode": {
    "name": "ipython",
    "version": 3
   },
   "file_extension": ".py",
   "mimetype": "text/x-python",
   "name": "python",
   "nbconvert_exporter": "python",
   "pygments_lexer": "ipython3",
   "version": "3.6.1"
  }
 },
 "nbformat": 4,
 "nbformat_minor": 2
}
